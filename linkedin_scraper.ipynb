{
 "cells": [
  {
   "cell_type": "markdown",
   "metadata": {
    "toc": true
   },
   "source": [
    "<h1>Table of Contents<span class=\"tocSkip\"></span></h1>\n",
    "<div class=\"toc\"><ul class=\"toc-item\"><li><span><a href=\"#Import-Packages\" data-toc-modified-id=\"Import-Packages-1\"><span class=\"toc-item-num\">1&nbsp;&nbsp;</span>Import Packages</a></span></li><li><span><a href=\"#Functions\" data-toc-modified-id=\"Functions-2\"><span class=\"toc-item-num\">2&nbsp;&nbsp;</span>Functions</a></span></li></ul></div>"
   ]
  },
  {
   "cell_type": "markdown",
   "metadata": {},
   "source": [
    "# LinkedIn Scraper"
   ]
  },
  {
   "cell_type": "markdown",
   "metadata": {},
   "source": [
    "## Import Packages"
   ]
  },
  {
   "cell_type": "code",
   "execution_count": 137,
   "metadata": {
    "ExecuteTime": {
     "end_time": "2020-03-17T21:37:10.768678Z",
     "start_time": "2020-03-17T21:37:10.765466Z"
    }
   },
   "outputs": [],
   "source": [
    "from selenium.webdriver.common.action_chains import ActionChains\n",
    "import time\n",
    "from selenium import webdriver\n",
    "from config import LinkedInProfile"
   ]
  },
  {
   "cell_type": "markdown",
   "metadata": {},
   "source": [
    "## Functions"
   ]
  },
  {
   "cell_type": "code",
   "execution_count": 160,
   "metadata": {
    "ExecuteTime": {
     "end_time": "2020-03-17T21:49:57.615170Z",
     "start_time": "2020-03-17T21:49:57.577262Z"
    }
   },
   "outputs": [],
   "source": [
    "def sign_in(driver, li_profile):\n",
    "    \"\"\"\n",
    "    Function takes a webdriver object and a LinkedInProfile object and uses \n",
    "    the credentials from the LinkedInProfile object to log the driver into LinkedIn.\n",
    "    \n",
    "    \n",
    "    \"\"\"\n",
    "    \n",
    "    driver.get('https://www.linkedin.com')\n",
    "    driver.find_element_by_xpath(\"//nav/a[@class='nav__button-secondary']\").click()\n",
    "\n",
    "    time.sleep(3)\n",
    "\n",
    "    username = driver.find_element_by_xpath(\"//input[@id='username']\")\n",
    "    password = driver.find_element_by_xpath(\"//input[@id='password']\")\n",
    "\n",
    "    username.send_keys(li_profile.username)\n",
    "    password.send_keys(li_profile.password)\n",
    "\n",
    "    driver.find_element_by_xpath(\"//button[@type='submit']\").click()\n",
    "\n",
    "def close_driver(driver):\n",
    "    try:\n",
    "        driver.close()\n",
    "    except:\n",
    "        pass\n",
    "    driver.quit()\n",
    "    \n",
    "def click_all_see_more_buttons(driver):\n",
    "    see_more_button_xpath = \"//button[@class='pv-profile-section__see-more-inline pv-profile-section__text-truncate-toggle link link-without-hover-state']\"\n",
    "    show_more_elements = driver.find_elements_by_xpath(see_more_button_xpath)\n",
    "    for button in show_more_elements:\n",
    "        actions = ActionChains(driver)\n",
    "        coordinates = button.location_once_scrolled_into_view # returns dict of X, Y coordinates\n",
    "        driver.execute_script(f\"window.scrollTo({coordinates['x']}, {coordinates['y']});\")\n",
    "        button.click()\n",
    "    \n",
    "def check_for_see_more_buttons(driver):\n",
    "    see_more_button_xpath = \"//button[@class='pv-profile-section__see-more-inline pv-profile-section__text-truncate-toggle link link-without-hover-state']\"\n",
    "    show_more_elements = driver.find_elements_by_xpath(see_more_button_xpath)\n",
    "    if len(show_more_elements) > 0:\n",
    "        return True\n",
    "    else:\n",
    "        return False\n",
    "    \n",
    "    \n",
    "\n",
    "def scrape_profile(driver, profile_url):\n",
    "    driver.maximize_window()\n",
    "    profile_data = {}\n",
    "    \n",
    "    driver.get(profile_url)\n",
    "    base_first_xpath = \"//div[@class='application-outlet ']//div[@class='ph5 pb5']/div[@class='display-flex mt2']/div[@class='flex-1 mr5']\"\n",
    "    top_box_uls = driver.find_elements_by_xpath(f\"{base_first_xpath}//ul/li\")\n",
    "    profile_data['profile_name'] = top_box_uls[0].text\n",
    "    profile_data['connection_degree'] = top_box_uls[1].text.split('\\n')[1]\n",
    "    profile_data['profile_location'] = top_box_uls[3].text\n",
    "    profile_data['profile_n_conn'] = top_box_uls[4].text.split(' ')[0]\n",
    "    \n",
    "    profile_data['profile_header'] = driver.find_element_by_xpath(f\"{base_first_xpath}//h2\").text\n",
    "    \n",
    "    about_xpath = \"//div[@class='application-outlet ']//div[@class='profile-detail']/div/section/p/span\"\n",
    "    try:\n",
    "        about_show_more_element = driver.find_element_by_xpath(\"//a[@id='line-clamp-show-more-button']\")\n",
    "    \n",
    "        actions = ActionChains(driver)\n",
    "        coordinates = about_show_more_element.location_once_scrolled_into_view # returns dict of X, Y coordinates\n",
    "        driver.execute_script(f\"window.scrollTo({coordinates['x']}, {coordinates['y']});\")\n",
    "    \n",
    "        about_show_more_element.click()\n",
    "    except Exception as e:\n",
    "        print(e)\n",
    "    about_me_lines = driver.find_elements_by_xpath(about_xpath)\n",
    "    profile_data['profile_about_me'] = \" \".join([line.text for line in about_me_lines])\n",
    "    while check_for_see_more_buttons(driver):\n",
    "        click_all_see_more_buttons(driver)\n",
    "        \n",
    "        \n",
    "    base_metadata_xpath = '//section[@class=\"pv-profile-section pv-profile-section--reorder-enabled background-section artdeco-container-card ember-view\"]'\n",
    "    \n",
    "    experience_dict = {}\n",
    "    education_dict = {}\n",
    "    lic_certif_dict = {}\n",
    "    volunteer_dict = {}\n",
    "    \n",
    "    for section_index, section in enumerate(driver.find_elements_by_xpath(base_metadata_xpath + '/div')):\n",
    "        section_title = driver.find_elements_by_xpath(base_metadata_xpath + '/div/section/header')[section_index].text\n",
    "        \n",
    "        section_id = driver.find_elements_by_xpath(base_metadata_xpath + '/div/section')[section_index].get_attribute('id')\n",
    "        section_items = driver.find_elements_by_xpath(base_metadata_xpath + f'/div/section[@id=\"{section_id}\"]/ul/li')\n",
    "        item_ids = [item.get_attribute('id') for item in section_items]\n",
    "        for item_index, item_id in enumerate(item_ids):\n",
    "            item_xpath_base = base_metadata_xpath + f'/div/section[@id=\"{section_id}\"]/ul/li[@id=\"{item_id}\"]'\n",
    "            item_dict = {}\n",
    "            if section_title == 'Experience':\n",
    "                expr_title = driver.find_element_by_xpath(item_xpath_base + '//h3').text\n",
    "                expr_company = driver.find_element_by_xpath(item_xpath_base + '//p[@class=\"pv-entity__secondary-title t-14 t-black t-normal\"]').text\n",
    "                item_dict['title'] = expr_title\n",
    "                item_dict['company'] = expr_company\n",
    "                experience_dict[item_id] = item_dict\n",
    "            if section_title == 'Education':\n",
    "                item_dict['institution'] = driver.find_element_by_xpath(item_xpath_base + '//h3').text\n",
    "                edu_p_list = driver.find_elements_by_xpath(item_xpath_base + '//p')\n",
    "                \n",
    "                if len(edu_p_list) >= 3:\n",
    "                    item_dict['degree'] = edu_p_list[0].text.split('\\n')[1] + ' ' + edu_p_list[1].text.split('\\n')[1]\n",
    "                    item_dict['years'] = edu_p_list[2].text.split('\\n')[1]\n",
    "                elif len(edu_p_list) == 1:\n",
    "                    item_dict['years'] = edu_p_list[0].text.split('\\n')[1]\n",
    "                \n",
    "                education_dict[item_id] = item_dict\n",
    "                \n",
    "    profile_data['experience'] = experience_dict\n",
    "    profile_data['education'] = education_dict\n",
    "        \n",
    "    return profile_data"
   ]
  },
  {
   "cell_type": "code",
   "execution_count": 162,
   "metadata": {
    "ExecuteTime": {
     "end_time": "2020-03-17T21:51:22.146030Z",
     "start_time": "2020-03-17T21:50:56.967232Z"
    }
   },
   "outputs": [
    {
     "name": "stdout",
     "output_type": "stream",
     "text": [
      "i click\n",
      "i click\n"
     ]
    },
    {
     "data": {
      "text/plain": [
       "{'profile_name': 'Chris Kirkup',\n",
       " 'connection_degree': '1st',\n",
       " 'profile_location': 'Greater Boston Area',\n",
       " 'profile_n_conn': '441',\n",
       " 'profile_header': 'Data Science Partnerships at nference',\n",
       " 'profile_about_me': 'Bioinformatics student skilled in Genomics Data Analysis and Biotechnology Lab Techniques with interests in Data Science, Machine Learning and Systems Biology; graduating Spring 2020 with Bachelor of Science (B.S.) in Biology and Spring 2021 with Masters of Science (M.S.) in Bioinformatics from Northeastern University ',\n",
       " 'experience': {'ember176': {'title': 'Data Science Partnerships',\n",
       "   'company': 'nference'},\n",
       "  'ember184': {'title': 'Functional Genomics/Bioinformatics Co-op',\n",
       "   'company': 'Agenus'},\n",
       "  'ember192': {'title': 'Immunomodulatory Drug Discovery Co-op',\n",
       "   'company': 'Agenus'},\n",
       "  'ember200': {'title': 'Clinical Care Technician',\n",
       "   'company': 'Tufts Medical Center'},\n",
       "  'ember210': {'title': 'Research Assistant',\n",
       "   'company': 'Northeastern University'},\n",
       "  'ember585': {'title': 'Public Health Research Intern',\n",
       "   'company': 'Global Dialogues'}},\n",
       " 'education': {'578240258': {'institution': 'Northeastern University',\n",
       "   'degree': 'Master of Science - MS Bioinformatics',\n",
       "   'years': '2018 – 2021'},\n",
       "  '397108386': {'institution': 'Northeastern University',\n",
       "   'degree': 'Bachelor of Science - BS Biology',\n",
       "   'years': '2015 – 2020'},\n",
       "  '405656254': {'institution': 'Milton High School', 'years': '2011 – 2015'}}}"
      ]
     },
     "execution_count": 162,
     "metadata": {},
     "output_type": "execute_result"
    }
   ],
   "source": [
    "profile_url = 'https://www.linkedin.com/in/marcie-matthews-6812a22/'\n",
    "profile_url = 'https://www.linkedin.com/in/ckirkup/'\n",
    "li_profile = LinkedInProfile()\n",
    "options = webdriver.FirefoxOptions()\n",
    "#options.add_argument('--headless')\n",
    "driver = webdriver.Firefox(options=options)\n",
    "\n",
    "\n",
    "sign_in(driver, li_profile)\n",
    "scrape_profile(driver, profile_url)"
   ]
  },
  {
   "cell_type": "code",
   "execution_count": 163,
   "metadata": {
    "ExecuteTime": {
     "end_time": "2020-03-17T21:51:44.819962Z",
     "start_time": "2020-03-17T21:51:40.859700Z"
    }
   },
   "outputs": [],
   "source": [
    "close_driver(driver)"
   ]
  },
  {
   "cell_type": "code",
   "execution_count": null,
   "metadata": {
    "ExecuteTime": {
     "end_time": "2020-03-17T18:59:30.049862Z",
     "start_time": "2020-03-17T18:59:30.045552Z"
    }
   },
   "outputs": [],
   "source": []
  },
  {
   "cell_type": "code",
   "execution_count": null,
   "metadata": {},
   "outputs": [],
   "source": []
  }
 ],
 "metadata": {
  "kernelspec": {
   "display_name": "Python 3",
   "language": "python",
   "name": "python3"
  },
  "language_info": {
   "codemirror_mode": {
    "name": "ipython",
    "version": 3
   },
   "file_extension": ".py",
   "mimetype": "text/x-python",
   "name": "python",
   "nbconvert_exporter": "python",
   "pygments_lexer": "ipython3",
   "version": "3.7.3"
  },
  "toc": {
   "base_numbering": 1,
   "nav_menu": {},
   "number_sections": true,
   "sideBar": true,
   "skip_h1_title": true,
   "title_cell": "Table of Contents",
   "title_sidebar": "Contents",
   "toc_cell": true,
   "toc_position": {},
   "toc_section_display": true,
   "toc_window_display": false
  },
  "varInspector": {
   "cols": {
    "lenName": 16,
    "lenType": 16,
    "lenVar": 40
   },
   "kernels_config": {
    "python": {
     "delete_cmd_postfix": "",
     "delete_cmd_prefix": "del ",
     "library": "var_list.py",
     "varRefreshCmd": "print(var_dic_list())"
    },
    "r": {
     "delete_cmd_postfix": ") ",
     "delete_cmd_prefix": "rm(",
     "library": "var_list.r",
     "varRefreshCmd": "cat(var_dic_list()) "
    }
   },
   "types_to_exclude": [
    "module",
    "function",
    "builtin_function_or_method",
    "instance",
    "_Feature"
   ],
   "window_display": false
  }
 },
 "nbformat": 4,
 "nbformat_minor": 2
}
